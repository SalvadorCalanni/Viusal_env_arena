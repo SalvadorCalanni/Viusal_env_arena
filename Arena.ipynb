{
 "cells": [
  {
   "cell_type": "code",
   "execution_count": 1,
   "id": "e33ce718",
   "metadata": {},
   "outputs": [
    {
     "name": "stdout",
     "output_type": "stream",
     "text": [
      "pygame 2.6.1 (SDL 2.28.4, Python 3.8.20)\n",
      "Hello from the pygame community. https://www.pygame.org/contribute.html\n"
     ]
    }
   ],
   "source": [
    "from psychopy import visual, core, event\n",
    "import numpy as np"
   ]
  },
  {
   "cell_type": "code",
   "execution_count": 2,
   "id": "54baf832",
   "metadata": {},
   "outputs": [],
   "source": [
    "#Global parameters\n",
    "\n",
    "win_size = (800, 600)"
   ]
  },
  {
   "cell_type": "code",
   "execution_count": 81,
   "id": "c41821a3",
   "metadata": {},
   "outputs": [],
   "source": [
    "#WINDOWS#############\n",
    "\n",
    "def create_grey_window(size):\n",
    "\n",
    "    # Create window\n",
    "    win = visual.Window(\n",
    "        size=size,\n",
    "        color=[0.5, 0.5, 0.5],  # Default gray background\n",
    "        units='pix',\n",
    "        winType='pyglet',  # Use pyglet for better performance\n",
    "        viewPos=(-size[0] // 2, -size[1] // 2),  # Center the view\n",
    "    )\n",
    "\n",
    "    return win\n",
    "\n",
    "\n",
    "\n",
    "def create_window_with_grid(size):\n",
    "    \"\"\"Create window with permanent grid background that won't disappear\"\"\"\n",
    "    win = visual.Window(\n",
    "        size=size,\n",
    "        color=[0.5, 0.5, 0.5], \n",
    "        units='pix',\n",
    "        winType='pyglet',  # Use pyglet for better performance\n",
    "        viewPos=(-size[0] // 2, -size[1] // 2), \n",
    "        #useFBO=True  # Crucial for persistent backgrounds\n",
    "    )\n",
    "    \n",
    "    # Create all grid elements\n",
    "    spacing = 100\n",
    "    width, height = size[0]*2, size[1]*2  # Double size for grid lines\n",
    "    half_w, half_h = width//2, height//2\n",
    "    \n",
    "    # We'll use two groups - one permanent, one for dynamic stimuli\n",
    "    win._permanent_stim = []\n",
    "    win._dynamic_stim = []\n",
    "    \n",
    "    # Create grid lines (permanent)\n",
    "    for y in range(-half_h, half_h+1, spacing):\n",
    "        line = visual.Line(\n",
    "            win, \n",
    "            start=(-half_w, y), \n",
    "            end=(half_w, y), \n",
    "            lineColor='black',\n",
    "            autoDraw=True  # Critical for persistence\n",
    "        )\n",
    "        win._permanent_stim.append(line)\n",
    "    \n",
    "    for x in range(-half_w, half_w+1, spacing):\n",
    "        line = visual.Line(\n",
    "            win,\n",
    "            start=(x, -half_h),\n",
    "            end=(x, half_h),\n",
    "            lineColor='black',\n",
    "            autoDraw=True\n",
    "        )\n",
    "        win._permanent_stim.append(line)\n",
    "\n",
    "    \n",
    "    # Initial flip to commit background\n",
    "    win.flip()\n",
    "    \n",
    "    return win"
   ]
  },
  {
   "cell_type": "code",
   "execution_count": 52,
   "id": "97cb9fa9",
   "metadata": {},
   "outputs": [],
   "source": [
    "def black_dot(win, size, pos):\n",
    "    dot = visual.Circle(\n",
    "        win=win,\n",
    "        radius=10,\n",
    "        fillColor='black',\n",
    "        lineColor='black'\n",
    "    )\n",
    "\n",
    "\n",
    "    pos_x = pos[0]\n",
    "    pos_y = pos[1]  # Set initial position\n",
    "    speed = 5\n",
    "\n",
    "    # Animation loop\n",
    "    while True:\n",
    "        pos_x = ((pos_x + speed) % size[0])   # Wrap around the screen\n",
    "        dot.pos = (pos_x, pos_y)\n",
    "\n",
    "        # Clear and redraw\n",
    "        win.clearBuffer()\n",
    "        if hasattr(win, 'background_stim'):\n",
    "            win.background_stim.draw()\n",
    "        dot.draw()\n",
    "        win.flip()\n",
    "\n",
    "        # Check for quit key (e.g., 'escape')\n",
    "        if 'escape' in event.getKeys():\n",
    "            return\n",
    "    win.flip()  \n",
    "\n",
    "\n",
    "        \n",
    "\n"
   ]
  },
  {
   "cell_type": "code",
   "execution_count": 18,
   "id": "d2281866",
   "metadata": {},
   "outputs": [],
   "source": [
    "win= create_grey_window(win_size)"
   ]
  },
  {
   "cell_type": "code",
   "execution_count": 82,
   "id": "15f2a61e",
   "metadata": {},
   "outputs": [],
   "source": [
    "win_grid = create_window_with_grid(win_size)"
   ]
  },
  {
   "cell_type": "code",
   "execution_count": 79,
   "id": "7f3dbe20",
   "metadata": {},
   "outputs": [
    {
     "ename": "KeyboardInterrupt",
     "evalue": "",
     "output_type": "error",
     "traceback": [
      "\u001b[0;31m---------------------------------------------------------------------------\u001b[0m",
      "\u001b[0;31mKeyboardInterrupt\u001b[0m                         Traceback (most recent call last)",
      "Cell \u001b[0;32mIn[79], line 1\u001b[0m\n\u001b[0;32m----> 1\u001b[0m \u001b[43mblack_dot\u001b[49m\u001b[43m(\u001b[49m\u001b[43mwin\u001b[49m\u001b[43m,\u001b[49m\u001b[43m \u001b[49m\u001b[43mwin_size\u001b[49m\u001b[43m,\u001b[49m\u001b[43m \u001b[49m\u001b[43m(\u001b[49m\u001b[38;5;241;43m0\u001b[39;49m\u001b[43m,\u001b[49m\u001b[43m \u001b[49m\u001b[38;5;241;43m30\u001b[39;49m\u001b[43m)\u001b[49m\u001b[43m)\u001b[49m\n",
      "Cell \u001b[0;32mIn[52], line 24\u001b[0m, in \u001b[0;36mblack_dot\u001b[0;34m(win, size, pos)\u001b[0m\n\u001b[1;32m     22\u001b[0m     win\u001b[38;5;241m.\u001b[39mbackground_stim\u001b[38;5;241m.\u001b[39mdraw()\n\u001b[1;32m     23\u001b[0m dot\u001b[38;5;241m.\u001b[39mdraw()\n\u001b[0;32m---> 24\u001b[0m \u001b[43mwin\u001b[49m\u001b[38;5;241;43m.\u001b[39;49m\u001b[43mflip\u001b[49m\u001b[43m(\u001b[49m\u001b[43m)\u001b[49m\n\u001b[1;32m     26\u001b[0m \u001b[38;5;66;03m# Check for quit key (e.g., 'escape')\u001b[39;00m\n\u001b[1;32m     27\u001b[0m \u001b[38;5;28;01mif\u001b[39;00m \u001b[38;5;124m'\u001b[39m\u001b[38;5;124mescape\u001b[39m\u001b[38;5;124m'\u001b[39m \u001b[38;5;129;01min\u001b[39;00m event\u001b[38;5;241m.\u001b[39mgetKeys():\n",
      "File \u001b[0;32m~/Environments/psychopy-py38/lib/python3.8/site-packages/psychopy/visual/window.py:1211\u001b[0m, in \u001b[0;36mWindow.flip\u001b[0;34m(self, clearBuffer)\u001b[0m\n\u001b[1;32m   1209\u001b[0m         GL\u001b[38;5;241m.\u001b[39mglVertex2i(\u001b[38;5;241m10\u001b[39m, \u001b[38;5;241m10\u001b[39m)\n\u001b[1;32m   1210\u001b[0m     GL\u001b[38;5;241m.\u001b[39mglEnd()\n\u001b[0;32m-> 1211\u001b[0m     \u001b[43mGL\u001b[49m\u001b[38;5;241;43m.\u001b[39;49m\u001b[43mglFinish\u001b[49m\u001b[43m(\u001b[49m\u001b[43m)\u001b[49m\n\u001b[1;32m   1213\u001b[0m \u001b[38;5;66;03m# get timestamp\u001b[39;00m\n\u001b[1;32m   1214\u001b[0m \u001b[38;5;28mself\u001b[39m\u001b[38;5;241m.\u001b[39m_frameTime \u001b[38;5;241m=\u001b[39m now \u001b[38;5;241m=\u001b[39m logging\u001b[38;5;241m.\u001b[39mdefaultClock\u001b[38;5;241m.\u001b[39mgetTime()\n",
      "File \u001b[0;32m~/Environments/psychopy-py38/lib/python3.8/site-packages/pyglet/gl/lib.py:86\u001b[0m, in \u001b[0;36merrcheck\u001b[0;34m(result, func, arguments)\u001b[0m\n\u001b[1;32m     83\u001b[0m \u001b[38;5;28;01mclass\u001b[39;00m\u001b[38;5;250m \u001b[39m\u001b[38;5;21;01mGLException\u001b[39;00m(\u001b[38;5;167;01mException\u001b[39;00m):\n\u001b[1;32m     84\u001b[0m     \u001b[38;5;28;01mpass\u001b[39;00m\n\u001b[0;32m---> 86\u001b[0m \u001b[38;5;28;01mdef\u001b[39;00m\u001b[38;5;250m \u001b[39m\u001b[38;5;21merrcheck\u001b[39m(result, func, arguments):\n\u001b[1;32m     87\u001b[0m     \u001b[38;5;28;01mif\u001b[39;00m _debug_gl_trace:\n\u001b[1;32m     88\u001b[0m         \u001b[38;5;28;01mtry\u001b[39;00m:\n",
      "\u001b[0;31mKeyboardInterrupt\u001b[0m: "
     ]
    }
   ],
   "source": [
    "black_dot(win, win_size, (0, 30))"
   ]
  },
  {
   "cell_type": "code",
   "execution_count": 83,
   "id": "c5013970",
   "metadata": {},
   "outputs": [
    {
     "ename": "KeyboardInterrupt",
     "evalue": "",
     "output_type": "error",
     "traceback": [
      "\u001b[0;31m---------------------------------------------------------------------------\u001b[0m",
      "\u001b[0;31mKeyboardInterrupt\u001b[0m                         Traceback (most recent call last)",
      "Cell \u001b[0;32mIn[83], line 1\u001b[0m\n\u001b[0;32m----> 1\u001b[0m \u001b[43mblack_dot\u001b[49m\u001b[43m(\u001b[49m\u001b[43mwin_grid\u001b[49m\u001b[43m,\u001b[49m\u001b[43m \u001b[49m\u001b[43mwin_size\u001b[49m\u001b[43m,\u001b[49m\u001b[43m \u001b[49m\u001b[43m(\u001b[49m\u001b[38;5;241;43m0\u001b[39;49m\u001b[43m,\u001b[49m\u001b[43m \u001b[49m\u001b[38;5;241;43m10\u001b[39;49m\u001b[43m)\u001b[49m\u001b[43m)\u001b[49m\n",
      "Cell \u001b[0;32mIn[52], line 24\u001b[0m, in \u001b[0;36mblack_dot\u001b[0;34m(win, size, pos)\u001b[0m\n\u001b[1;32m     22\u001b[0m     win\u001b[38;5;241m.\u001b[39mbackground_stim\u001b[38;5;241m.\u001b[39mdraw()\n\u001b[1;32m     23\u001b[0m dot\u001b[38;5;241m.\u001b[39mdraw()\n\u001b[0;32m---> 24\u001b[0m \u001b[43mwin\u001b[49m\u001b[38;5;241;43m.\u001b[39;49m\u001b[43mflip\u001b[49m\u001b[43m(\u001b[49m\u001b[43m)\u001b[49m\n\u001b[1;32m     26\u001b[0m \u001b[38;5;66;03m# Check for quit key (e.g., 'escape')\u001b[39;00m\n\u001b[1;32m     27\u001b[0m \u001b[38;5;28;01mif\u001b[39;00m \u001b[38;5;124m'\u001b[39m\u001b[38;5;124mescape\u001b[39m\u001b[38;5;124m'\u001b[39m \u001b[38;5;129;01min\u001b[39;00m event\u001b[38;5;241m.\u001b[39mgetKeys():\n",
      "File \u001b[0;32m~/Environments/psychopy-py38/lib/python3.8/site-packages/psychopy/visual/window.py:1211\u001b[0m, in \u001b[0;36mWindow.flip\u001b[0;34m(self, clearBuffer)\u001b[0m\n\u001b[1;32m   1209\u001b[0m         GL\u001b[38;5;241m.\u001b[39mglVertex2i(\u001b[38;5;241m10\u001b[39m, \u001b[38;5;241m10\u001b[39m)\n\u001b[1;32m   1210\u001b[0m     GL\u001b[38;5;241m.\u001b[39mglEnd()\n\u001b[0;32m-> 1211\u001b[0m     \u001b[43mGL\u001b[49m\u001b[38;5;241;43m.\u001b[39;49m\u001b[43mglFinish\u001b[49m\u001b[43m(\u001b[49m\u001b[43m)\u001b[49m\n\u001b[1;32m   1213\u001b[0m \u001b[38;5;66;03m# get timestamp\u001b[39;00m\n\u001b[1;32m   1214\u001b[0m \u001b[38;5;28mself\u001b[39m\u001b[38;5;241m.\u001b[39m_frameTime \u001b[38;5;241m=\u001b[39m now \u001b[38;5;241m=\u001b[39m logging\u001b[38;5;241m.\u001b[39mdefaultClock\u001b[38;5;241m.\u001b[39mgetTime()\n",
      "File \u001b[0;32m~/Environments/psychopy-py38/lib/python3.8/site-packages/pyglet/gl/lib.py:86\u001b[0m, in \u001b[0;36merrcheck\u001b[0;34m(result, func, arguments)\u001b[0m\n\u001b[1;32m     83\u001b[0m \u001b[38;5;28;01mclass\u001b[39;00m\u001b[38;5;250m \u001b[39m\u001b[38;5;21;01mGLException\u001b[39;00m(\u001b[38;5;167;01mException\u001b[39;00m):\n\u001b[1;32m     84\u001b[0m     \u001b[38;5;28;01mpass\u001b[39;00m\n\u001b[0;32m---> 86\u001b[0m \u001b[38;5;28;01mdef\u001b[39;00m\u001b[38;5;250m \u001b[39m\u001b[38;5;21merrcheck\u001b[39m(result, func, arguments):\n\u001b[1;32m     87\u001b[0m     \u001b[38;5;28;01mif\u001b[39;00m _debug_gl_trace:\n\u001b[1;32m     88\u001b[0m         \u001b[38;5;28;01mtry\u001b[39;00m:\n",
      "\u001b[0;31mKeyboardInterrupt\u001b[0m: "
     ]
    }
   ],
   "source": [
    "black_dot(win_grid, win_size, (0, 10))\n"
   ]
  }
 ],
 "metadata": {
  "kernelspec": {
   "display_name": "psychopy-py38",
   "language": "python",
   "name": "python3"
  },
  "language_info": {
   "codemirror_mode": {
    "name": "ipython",
    "version": 3
   },
   "file_extension": ".py",
   "mimetype": "text/x-python",
   "name": "python",
   "nbconvert_exporter": "python",
   "pygments_lexer": "ipython3",
   "version": "3.8.20"
  }
 },
 "nbformat": 4,
 "nbformat_minor": 5
}
